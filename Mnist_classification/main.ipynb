{
 "cells": [
  {
   "cell_type": "code",
   "execution_count": 1,
   "metadata": {},
   "outputs": [],
   "source": [
    "import tensorflow as tf\n",
    "from tensorflow import keras\n",
    "import matplotlib.pyplot as plt\n",
    "%matplotlib inline\n",
    "import numpy as np"
   ]
  },
  {
   "cell_type": "code",
   "execution_count": 2,
   "metadata": {},
   "outputs": [],
   "source": [
    "(X_train, y_train) , (X_test, y_test) = keras.datasets.mnist.load_data()"
   ]
  },
  {
   "cell_type": "code",
   "execution_count": 3,
   "metadata": {},
   "outputs": [
    {
     "data": {
      "text/plain": [
       "60000"
      ]
     },
     "execution_count": 3,
     "metadata": {},
     "output_type": "execute_result"
    }
   ],
   "source": [
    "len(X_train)"
   ]
  },
  {
   "cell_type": "code",
   "execution_count": 4,
   "metadata": {},
   "outputs": [
    {
     "data": {
      "text/plain": [
       "10000"
      ]
     },
     "execution_count": 4,
     "metadata": {},
     "output_type": "execute_result"
    }
   ],
   "source": [
    "len(X_test)"
   ]
  },
  {
   "cell_type": "code",
   "execution_count": 5,
   "metadata": {},
   "outputs": [
    {
     "data": {
      "text/plain": [
       "(28, 28)"
      ]
     },
     "execution_count": 5,
     "metadata": {},
     "output_type": "execute_result"
    }
   ],
   "source": [
    "X_train[0].shape"
   ]
  },
  {
   "cell_type": "code",
   "execution_count": 6,
   "metadata": {},
   "outputs": [
    {
     "data": {
      "text/plain": [
       "<matplotlib.image.AxesImage at 0x2039f954d10>"
      ]
     },
     "execution_count": 6,
     "metadata": {},
     "output_type": "execute_result"
    },
    {
     "data": {
      "image/png": "[encoded data removed]",
      "text/plain": [
       "<Figure size 480x480 with 1 Axes>"
      ]
     },
     "metadata": {},
     "output_type": "display_data"
    }
   ],
   "source": [
    "plt.matshow(X_train[0])"
   ]
  },
  {
   "cell_type": "code",
   "execution_count": 7,
   "metadata": {},
   "outputs": [
    {
     "data": {
      "text/plain": [
       "5"
      ]
     },
     "execution_count": 7,
     "metadata": {},
     "output_type": "execute_result"
    }
   ],
   "source": [
    "y_train[0]"
   ]
  },
  {
   "cell_type": "code",
   "execution_count": 8,
   "metadata": {},
   "outputs": [],
   "source": [
    "X_train = X_train / 255\n",
    "X_test = X_test / 255"
   ]
  },
  {
   "cell_type": "code",
   "execution_count": 9,
   "metadata": {},
   "outputs": [],
   "source": [
    "X_train_flattened = X_train.reshape(len(X_train), 28*28)\n",
    "X_test_flattened = X_test.reshape(len(X_test), 28*28)"
   ]
  },
  {
   "cell_type": "code",
   "execution_count": 10,
   "metadata": {},
   "outputs": [
    {
     "data": {
      "text/plain": [
       "(60000, 784)"
      ]
     },
     "execution_count": 10,
     "metadata": {},
     "output_type": "execute_result"
    }
   ],
   "source": [
    "X_train_flattened.shape"
   ]
  },
  {
   "cell_type": "code",
   "execution_count": 11,
   "metadata": {},
   "outputs": [
    {
     "name": "stdout",
     "output_type": "stream",
     "text": [
      "Epoch 1/5\n",
      "1875/1875 [==============================] - 10s 4ms/step - loss: 0.2758 - accuracy: 0.9222\n",
      "Epoch 2/5\n",
      "1875/1875 [==============================] - 6s 3ms/step - loss: 0.1237 - accuracy: 0.9640\n",
      "Epoch 3/5\n",
      "1875/1875 [==============================] - 6s 3ms/step - loss: 0.0864 - accuracy: 0.9743\n",
      "Epoch 4/5\n",
      "1875/1875 [==============================] - 10s 6ms/step - loss: 0.0658 - accuracy: 0.9803\n",
      "Epoch 5/5\n",
      "1875/1875 [==============================] - 7s 4ms/step - loss: 0.0510 - accuracy: 0.9836\n"
     ]
    },
    {
     "data": {
      "text/plain": [
       "<keras.src.callbacks.History at 0x203b03fed50>"
      ]
     },
     "execution_count": 11,
     "metadata": {},
     "output_type": "execute_result"
    }
   ],
   "source": [
    "model = keras.Sequential([\n",
    "    keras.layers.Flatten(input_shape=(28, 28)),\n",
    "    keras.layers.Dense(100, activation='relu'),\n",
    "    keras.layers.Dense(10, activation='sigmoid')\n",
    "])\n",
    "\n",
    "model.compile(optimizer='adam',\n",
    "              loss='sparse_categorical_crossentropy',\n",
    "              metrics=['accuracy'])\n",
    "\n",
    "tb_callback = tf.keras.callbacks.TensorBoard(log_dir=\"logs/\", histogram_freq=1)\n",
    "\n",
    "model.fit(X_train, y_train, epochs=5, callbacks=[tb_callback])"
   ]
  },
  {
   "cell_type": "code",
   "execution_count": 12,
   "metadata": {},
   "outputs": [
    {
     "data": {
      "text/plain": [
       "[array([[ 0.06868751, -0.07112858,  0.05090064, ..., -0.00986638,\n",
       "         -0.0721795 , -0.00993751],\n",
       "        [ 0.04598629, -0.04875286, -0.00579423, ...,  0.00070313,\n",
       "          0.01636787,  0.01845326],\n",
       "        [-0.0727588 ,  0.04903571, -0.01007337, ..., -0.01162852,\n",
       "         -0.05142115,  0.07218371],\n",
       "        ...,\n",
       "        [-0.05462872,  0.08180761, -0.05432949, ..., -0.0570663 ,\n",
       "         -0.0593165 , -0.06741153],\n",
       "        [ 0.00930727, -0.02403159,  0.03172023, ..., -0.04884928,\n",
       "         -0.00246843,  0.05110715],\n",
       "        [-0.05399061,  0.04433112,  0.05220427, ...,  0.04195569,\n",
       "         -0.06365561,  0.0549631 ]], dtype=float32),\n",
       " array([ 0.04597571,  0.17932612, -0.05701409,  0.02077411, -0.11007935,\n",
       "        -0.16383709,  0.13892716,  0.02487798,  0.15852503, -0.03773303,\n",
       "         0.03193511,  0.05888633,  0.05884496,  0.15867686, -0.05243377,\n",
       "         0.09717384, -0.12460859,  0.09330032,  0.04647438,  0.13344386,\n",
       "        -0.08638957, -0.01602955,  0.09148757,  0.0102499 ,  0.05136418,\n",
       "         0.01647018, -0.11702804, -0.05990511,  0.08133902,  0.08519235,\n",
       "         0.00270448,  0.02413447, -0.03331321,  0.21615164,  0.00242174,\n",
       "        -0.07008781,  0.00038524, -0.12919764, -0.07170042, -0.18334104,\n",
       "         0.2531738 , -0.03543713, -0.1350402 ,  0.03979481,  0.09459109,\n",
       "         0.01420486, -0.06852967, -0.02955232,  0.02024502, -0.13384296,\n",
       "        -0.04838022,  0.15559418,  0.114505  ,  0.01933108, -0.05111297,\n",
       "         0.10183616, -0.00348601, -0.03946347, -0.00798711, -0.02108536,\n",
       "         0.01328489,  0.06335046, -0.01416359,  0.23620407, -0.05899313,\n",
       "        -0.03027048,  0.07624365, -0.03418998, -0.0590174 , -0.00831374,\n",
       "         0.26326865,  0.13527353,  0.050778  ,  0.05054944,  0.08860006,\n",
       "        -0.07917794,  0.01231908, -0.05650478,  0.08745614,  0.0112191 ,\n",
       "         0.06933553,  0.2334248 ,  0.09883226, -0.07396921,  0.03646653,\n",
       "         0.12530288,  0.10565247,  0.13519706, -0.09854484,  0.01436547,\n",
       "         0.12407605, -0.02231349,  0.00840125, -0.02308431,  0.10326512,\n",
       "        -0.15004252, -0.0220225 , -0.14053777,  0.0502286 ,  0.09282107],\n",
       "       dtype=float32),\n",
       " array([[ 0.24045873, -0.2489529 , -0.17871408, -0.0550723 , -0.13050176,\n",
       "          0.05061951,  0.18167232, -0.25684604,  0.23104237, -0.1705877 ],\n",
       "        [-0.552659  ,  0.18588032, -0.0338126 ,  0.07437818,  0.2594307 ,\n",
       "          0.25176224, -0.49841154, -0.15544045,  0.18788983, -0.08850543],\n",
       "        [-0.19523527,  0.17260104, -0.11664747, -0.02192962,  0.243332  ,\n",
       "         -0.28449446, -0.06449461,  0.15022905,  0.08670768,  0.26666078],\n",
       "        [-0.35432264,  0.1717105 ,  0.04495571, -0.39993572,  0.06283014,\n",
       "          0.05972775,  0.3152189 , -0.67479223, -0.14661582,  0.11679388],\n",
       "        [ 0.28731024,  0.48149812, -0.14073259,  0.0530769 , -0.02590668,\n",
       "         -0.5263591 , -0.0975989 ,  0.18931027, -0.28909752,  0.29556108],\n",
       "        [ 0.31265283, -0.00300849,  0.34636217,  0.26587677, -0.52743495,\n",
       "         -0.22847156, -0.05636584,  0.00584517,  0.28221256,  0.2730742 ],\n",
       "        [-0.70636684, -0.39526337, -0.23694746, -0.01755699,  0.2847428 ,\n",
       "          0.37079838,  0.20131373, -0.35741004,  0.18615979,  0.17742658],\n",
       "        [ 0.23155273, -0.13506566,  0.00273933,  0.0263756 , -0.19946931,\n",
       "          0.21089216, -0.19536091, -0.27091306, -0.03319864,  0.19470221],\n",
       "        [-0.27608734,  0.01401535, -0.25110155, -0.03466436,  0.017442  ,\n",
       "          0.12553516,  0.01730787,  0.10417787,  0.19308114,  0.08152238],\n",
       "        [-0.2695302 , -0.29514393,  0.12776208, -0.13698404, -0.00806981,\n",
       "         -0.33385944,  0.07074133, -0.32868773,  0.23506238,  0.16982281],\n",
       "        [-0.23078988,  0.35826796,  0.18388939, -0.6648697 , -0.11326993,\n",
       "         -0.079608  , -0.34855017,  0.06586148, -0.41561607,  0.3620244 ],\n",
       "        [ 0.24030605, -0.00610918,  0.02245194, -0.03180833, -0.40777785,\n",
       "          0.15357107,  0.18752426, -0.3670208 ,  0.11508829, -0.02224283],\n",
       "        [-0.08957899, -0.1065199 , -0.18989521,  0.18621968, -0.11414791,\n",
       "          0.16666213, -0.7715998 ,  0.18089005,  0.20435964,  0.21423434],\n",
       "        [-0.28772768, -0.34699434,  0.4927508 , -0.07450833, -0.65997577,\n",
       "          0.6753376 ,  0.42064127,  0.18216325,  0.03891911, -0.33196118],\n",
       "        [-0.71716356,  0.24171855,  0.15106572,  0.0764949 , -0.28348476,\n",
       "          0.03119053, -0.23891288,  0.16076706, -0.19153096, -0.5815157 ],\n",
       "        [-0.57393795,  0.79578125, -0.20179312,  0.15081714,  0.28670847,\n",
       "         -0.16790423, -0.16644557,  0.19088072, -0.1372452 , -0.45126507],\n",
       "        [ 0.09173159,  0.05300035, -0.40799022,  0.22151531,  0.24841458,\n",
       "         -0.13472077,  0.19552037,  0.07011847, -0.38409507, -0.11841547],\n",
       "        [-0.38229087, -0.5206693 , -0.23713905,  0.12879932,  0.00768188,\n",
       "          0.09874173, -1.022626  ,  0.2936481 , -0.29802024,  0.27487272],\n",
       "        [ 0.17075019,  0.15685584, -0.16474172,  0.19173938, -0.47778246,\n",
       "          0.19790943, -0.41929835, -0.05067801, -0.04290153, -0.08635281],\n",
       "        [ 0.03968814, -0.06949901, -0.24373311, -0.35574806,  0.28161052,\n",
       "          0.25719157,  0.01747852, -0.26446873,  0.15191312,  0.26845428],\n",
       "        [-0.1297794 ,  0.33102036,  0.2693495 ,  0.09936281,  0.21995138,\n",
       "         -0.708474  , -0.6588117 , -0.05847653, -0.14988549,  0.28617123],\n",
       "        [-0.5341822 ,  0.1156192 , -0.09831125,  0.3517549 ,  0.02704195,\n",
       "          0.19062524, -0.1387126 , -0.1301691 ,  0.3348645 ,  0.02907833],\n",
       "        [-0.13298042,  0.02506947, -0.2314762 ,  0.2042698 ,  0.30247173,\n",
       "          0.27349064,  0.32763493,  0.22472537,  0.11971754, -0.2221709 ],\n",
       "        [-0.26199076,  0.21061182, -0.02213274, -0.17391688, -0.06394698,\n",
       "         -0.2434545 ,  0.29780355, -0.24142641,  0.00357696, -0.27249244],\n",
       "        [-0.13649556,  0.16059062,  0.16565305,  0.21685238,  0.0649164 ,\n",
       "          0.3189907 , -0.08216833,  0.02571577, -0.53470266, -0.3197375 ],\n",
       "        [ 0.24635002,  0.07997005,  0.08800988, -0.6110059 ,  0.29168   ,\n",
       "         -0.5122807 , -0.17105015,  0.27647573, -0.01891944,  0.09233733],\n",
       "        [ 0.19339018, -0.06247527,  0.14669228,  0.14468625, -0.85915536,\n",
       "         -0.05613398, -0.32249466,  0.07452483,  0.03239789, -0.05060057],\n",
       "        [ 0.12775227, -0.39918056,  0.13805808,  0.03451692, -0.8789995 ,\n",
       "          0.00498266, -0.2208314 , -0.00500584, -0.10628724,  0.18316899],\n",
       "        [ 0.06289864, -0.2507685 , -0.6785401 , -0.48734656,  0.07873089,\n",
       "          0.36375466,  0.08191442,  0.24282303, -0.32387257,  0.28474906],\n",
       "        [ 0.25323933,  0.2546598 , -0.53571993, -0.48765576,  0.2650092 ,\n",
       "          0.18557642,  0.41568935, -0.15364692, -0.45982513, -0.04579281],\n",
       "        [-0.1543926 ,  0.17311022, -0.31087828,  0.14375807,  0.22304331,\n",
       "         -0.14987972, -0.5227063 , -0.2771546 ,  0.1319268 ,  0.3689162 ],\n",
       "        [ 0.04815702, -0.39924732,  0.19910342, -0.19402586, -0.27335584,\n",
       "         -0.08965304, -0.28289708,  0.20286587, -0.07648313, -0.49948424],\n",
       "        [ 0.3590272 , -0.48836067,  0.02878306, -0.12319997,  0.25469714,\n",
       "         -0.30116475,  0.18738775, -0.26689774, -0.27210662, -0.00500312],\n",
       "        [-0.01592229,  0.18749861,  0.23246415,  0.01291266,  0.09126677,\n",
       "          0.49761266,  0.18280122, -0.25288406, -0.20144022, -0.7048399 ],\n",
       "        [-0.00519889,  0.21056567,  0.17471361, -0.18615854, -0.5829927 ,\n",
       "         -0.16265772, -0.0591729 , -0.376318  ,  0.0630765 , -0.17888194],\n",
       "        [-0.28418562,  0.07547294,  0.15427358,  0.48026857, -0.6325024 ,\n",
       "         -0.44357097, -0.35551095,  0.16151515, -0.14356373,  0.08950698],\n",
       "        [ 0.43625838, -0.03756232,  0.52726805,  0.08194324, -0.23407607,\n",
       "         -0.73192763,  0.1833577 ,  0.3011509 , -0.39113772,  0.10169683],\n",
       "        [-0.24691786,  0.15235592,  0.08973155,  0.06245795,  0.17380136,\n",
       "         -0.88373667, -0.37597498,  0.11817677, -0.13713749,  0.09429684],\n",
       "        [ 0.13308947, -0.3954782 , -0.14645459,  0.17677626,  0.04851994,\n",
       "         -0.13150044, -0.18627854,  0.07655724, -0.03472146,  0.21604362],\n",
       "        [ 0.18143357, -0.23034832,  0.01645089,  0.3013475 , -0.17739278,\n",
       "          0.08649205,  0.30027163, -0.5413137 , -0.20182832,  0.18832698],\n",
       "        [-0.24072552, -0.11677896, -0.00432896, -0.0399656 ,  0.17542318,\n",
       "          0.10622314,  0.07746853, -0.22613738,  0.20733458, -0.02447222],\n",
       "        [ 0.2758264 , -0.6698122 , -0.15186663,  0.47152776, -0.2802686 ,\n",
       "         -0.2375261 ,  0.37676102, -0.02107414, -0.12436495,  0.12380415],\n",
       "        [ 0.12301698,  0.29505533,  0.2918762 , -0.18272163, -0.05861091,\n",
       "         -0.49110532,  0.25477853,  0.34283784,  0.17064498, -0.5863991 ],\n",
       "        [-0.01475789,  0.20706663,  0.21705374,  0.18824318, -0.17680158,\n",
       "          0.16477677,  0.11925483, -0.09896109,  0.06342758, -0.59256834],\n",
       "        [-0.5811551 , -0.33924264, -0.47186226,  0.49847877, -0.12728083,\n",
       "          0.5683099 , -0.7832661 , -0.18739636, -0.7410722 ,  0.33396107],\n",
       "        [ 0.27697796, -0.35385367,  0.2111969 ,  0.19883066,  0.23815973,\n",
       "          0.07831015,  0.24391112,  0.26559103, -0.37059996, -0.10097016],\n",
       "        [-0.29390544, -0.01056214,  0.08123086,  0.01358019, -0.66586506,\n",
       "         -0.06113282, -0.40225616,  0.30255583,  0.1560127 ,  0.37898186],\n",
       "        [-0.01129892,  0.07015441,  0.08164872, -0.08289605,  0.10187726,\n",
       "         -0.08199689, -0.0988365 , -0.02216957, -0.13697535, -0.00800385],\n",
       "        [-0.16720293,  0.5091141 ,  0.1009368 , -0.0153165 ,  0.44012317,\n",
       "         -0.18907373, -0.21613157,  0.21210551, -0.20040695, -0.98980093],\n",
       "        [ 0.16627404, -0.09267288, -0.28235877,  0.10467412,  0.0978732 ,\n",
       "         -0.1634029 ,  0.26355994, -0.15679535,  0.07970531,  0.12843996],\n",
       "        [ 0.39432186,  0.06676108,  0.47278032, -0.34778056, -0.30474436,\n",
       "         -0.6047236 , -0.08510783, -0.11535326,  0.33803213,  0.12469508],\n",
       "        [ 0.23339988,  0.37147814,  0.21345206,  0.02475474, -0.69192904,\n",
       "          0.28460017,  0.11010617,  0.20197105, -0.66458064, -0.29114646],\n",
       "        [-0.48836535,  0.24818702,  0.315261  , -0.8265439 ,  0.44166502,\n",
       "         -0.17226714,  0.21917036,  0.36571732, -0.2224005 ,  0.06807745],\n",
       "        [-0.5707319 ,  0.1859713 ,  0.52509063,  0.07614222,  0.1886776 ,\n",
       "          0.0984255 , -0.6828071 , -0.12681848, -0.31146201,  0.03435082],\n",
       "        [-0.3076685 ,  0.25828117,  0.3964665 ,  0.31739798, -0.52665955,\n",
       "         -0.12329324, -0.05527349,  0.62873733, -0.56611085, -1.06091   ],\n",
       "        [ 0.08001988, -0.34685525,  0.38521752, -0.26772046, -0.10060836,\n",
       "          0.22942193,  0.11104801, -0.02795351,  0.18538448, -0.50425553],\n",
       "        [-0.23784602, -0.20548214,  0.12730855,  0.08112953,  0.06887595,\n",
       "         -0.23453431, -0.27593336,  0.11946268,  0.16135384,  0.13317816],\n",
       "        [-0.34182715,  0.06795941,  0.32337242,  0.6364913 , -0.472726  ,\n",
       "         -0.17849687, -0.7167395 ,  0.47198543, -0.60931695, -0.7092535 ],\n",
       "        [-0.31321627, -0.05814137, -0.7316164 ,  0.21520808,  0.32633898,\n",
       "         -0.09512249, -0.41307145,  0.06780215, -0.10924771,  0.27163565],\n",
       "        [-0.1718862 ,  0.01415425, -0.14507374, -0.11173219, -0.02544775,\n",
       "         -0.1684847 ,  0.13522036,  0.0722583 ,  0.11233701,  0.11421611],\n",
       "        [ 0.39869928, -0.3627036 , -0.08874062, -0.18598188, -0.5074877 ,\n",
       "          0.01695967, -0.23740368,  0.04002605,  0.13189022,  0.16350335],\n",
       "        [ 0.12224498, -0.02109308, -0.04134023, -0.05742365, -0.6513401 ,\n",
       "          0.35759553, -0.49647838,  0.3754104 , -0.18106936, -0.18114188],\n",
       "        [-0.01114975, -0.32125536,  0.14966686, -0.15557979, -0.07845271,\n",
       "         -0.04434324,  0.19939363,  0.12220085,  0.04397912, -0.4666673 ],\n",
       "        [-0.04732865,  0.19398507, -0.5181058 , -0.51755387, -0.26908034,\n",
       "          0.47039035, -0.27033696,  0.22399844, -0.32345995, -0.07300243],\n",
       "        [-0.24539591, -0.00512477,  0.00157741,  0.09946406, -0.31051224,\n",
       "         -0.31030232,  0.3381918 ,  0.17958632,  0.20085303, -0.601608  ],\n",
       "        [ 0.16369256,  0.0705177 , -0.17236216, -0.14639466,  0.10334979,\n",
       "         -0.14823663,  0.2518805 ,  0.05772586, -0.07666734, -0.2252822 ],\n",
       "        [ 0.24266407, -0.30607477, -0.31110716, -0.51724786,  0.36714828,\n",
       "         -0.04104974,  0.08892182,  0.14964917, -0.23982225, -0.23918499],\n",
       "        [ 0.2190301 , -0.3724724 ,  0.04604739,  0.19439892,  0.31295502,\n",
       "         -0.01605147, -0.12777364, -0.39041868, -0.23132029, -0.22224654],\n",
       "        [-0.4814571 , -0.29956165,  0.32617828, -0.1702279 ,  0.165908  ,\n",
       "         -0.31301242, -0.5437875 ,  0.25514483,  0.16681421, -0.31618562],\n",
       "        [-0.33715057,  0.30211622, -0.05864064, -0.43908286,  0.08449101,\n",
       "          0.00493158, -0.3993243 ,  0.44556543,  0.09691527, -0.49666086],\n",
       "        [-0.12942737,  0.05684138, -0.6159778 ,  0.00288901, -0.25666654,\n",
       "          0.55336636,  0.07167937, -0.25736344,  0.2582984 ,  0.02808099],\n",
       "        [ 0.02680809, -0.01779748,  0.45734483, -0.28515962,  0.28027955,\n",
       "          0.02342354, -0.2029443 , -0.28352836, -0.3803955 ,  0.15027711],\n",
       "        [ 0.15060855, -0.20294902, -0.5264603 ,  0.23282841,  0.24435869,\n",
       "         -0.10343836,  0.3294143 ,  0.53651553, -0.62555724, -0.31863225],\n",
       "        [-0.37343174, -0.5147196 , -0.21855476, -0.29589525, -0.65182674,\n",
       "          0.5542898 ,  0.30835864,  0.0170538 ,  0.0445773 ,  0.23746942],\n",
       "        [-0.09869178, -0.42994356, -0.10040978, -0.14926437,  0.25806436,\n",
       "         -0.00130207, -0.5284805 ,  0.03950542,  0.16110185,  0.22090614],\n",
       "        [ 0.31216386, -0.31827798, -0.12843867,  0.35220096, -0.74980354,\n",
       "          0.29522827,  0.23163341, -0.1653813 ,  0.10959572, -0.1419459 ],\n",
       "        [-0.53649294,  0.3123895 ,  0.4310326 ,  0.30321196, -0.09264038,\n",
       "         -0.23183204,  0.07798657, -0.15776117,  0.19439393, -0.541224  ],\n",
       "        [ 0.21607839,  0.27083826, -0.6952774 ,  0.20211515, -0.3615223 ,\n",
       "         -0.1931843 , -0.14311853,  0.25786522, -0.14444815,  0.22521016],\n",
       "        [ 0.01693291, -0.32796466, -0.5182607 , -0.55413175,  0.47027507,\n",
       "          0.15565445,  0.05968045, -0.06317613,  0.05860142, -0.29704317],\n",
       "        [-0.06178065,  0.39450946, -0.02885382, -0.5082309 ,  0.44929895,\n",
       "         -0.69391894, -0.32648975,  0.03471897, -0.3792066 ,  0.15196736],\n",
       "        [ 0.08780866,  0.2851826 , -0.62620765, -0.49916485, -0.08369078,\n",
       "          0.03395239,  0.579279  , -0.3261939 ,  0.01372055, -0.05963238],\n",
       "        [-0.03323185, -0.04366358, -0.28079087,  0.02328688,  0.3229785 ,\n",
       "          0.34265798, -0.185913  , -0.2998762 , -0.65937   , -0.10209819],\n",
       "        [ 0.2785854 , -0.8979983 , -0.210297  , -0.49879375, -0.24350436,\n",
       "         -0.39910132, -0.136878  ,  0.6825355 ,  0.01258643, -0.31928092],\n",
       "        [ 0.10229621,  0.04888212,  0.20128721, -0.02213635, -0.18354462,\n",
       "         -0.16702619, -0.12298473, -0.22453094,  0.1712247 ,  0.02607712],\n",
       "        [-0.06215641,  0.17066966, -0.02289064, -0.6788443 ,  0.03157766,\n",
       "         -0.0463035 ,  0.23855853,  0.20750934,  0.42445165, -0.41741925],\n",
       "        [-0.5711533 ,  0.03735893,  0.13483287,  0.5031525 ,  0.127869  ,\n",
       "          0.14263114, -0.50119394,  0.1581261 , -0.44367605,  0.19500008],\n",
       "        [-0.06169587,  0.09086841, -0.05532262,  0.05038579, -0.3770226 ,\n",
       "          0.199371  ,  0.27191243, -0.4991454 ,  0.18317102, -0.12903066],\n",
       "        [-0.20819892,  0.16586411,  0.31224987, -0.3120667 ,  0.21755828,\n",
       "          0.18325303,  0.02311156, -0.39827016, -0.50453335,  0.2819308 ],\n",
       "        [-0.5187591 ,  0.18516393,  0.01387506,  0.70261145,  0.23336978,\n",
       "         -0.8174536 ,  0.06307553, -0.00282158,  0.03289798, -0.05405123],\n",
       "        [ 0.04683505,  0.6771287 , -0.04027849, -0.13585736, -0.55977637,\n",
       "          0.16451065,  0.07089679,  0.15214986, -0.30001643,  0.18580292],\n",
       "        [-0.00720858, -0.28912926, -0.04812726,  0.13953349,  0.12521222,\n",
       "          0.10361377,  0.05669244, -0.03129005,  0.27568504,  0.10993227],\n",
       "        [ 0.20527624, -0.18613024, -0.15430064, -0.2762771 , -0.01564941,\n",
       "         -0.13054277, -0.18168907,  0.15845779, -0.13210672,  0.21440268],\n",
       "        [ 0.04554754, -0.2182348 ,  0.11943989,  0.23062342, -0.01271506,\n",
       "          0.03850317, -0.06438228, -0.35214153,  0.17793275, -0.12915228],\n",
       "        [-0.5042647 , -0.14064966,  0.14271729, -0.16912496, -0.17709495,\n",
       "         -0.86568606,  0.34031668,  0.16157298,  0.27499026, -0.13495637],\n",
       "        [ 0.08654564, -0.19504786,  0.287394  , -0.14261512, -0.7800012 ,\n",
       "          0.14665064,  0.16396934, -0.08875401,  0.02919858, -0.34824222],\n",
       "        [ 0.24799293, -0.5348995 ,  0.39502862,  0.13999338,  0.29353085,\n",
       "         -0.5855603 , -0.09573485, -0.07256581, -0.15728052,  0.1765328 ],\n",
       "        [ 0.1614964 ,  0.04074591, -0.19103733, -0.04259647, -0.11311677,\n",
       "          0.14653736,  0.09415171,  0.09212562,  0.16837928, -0.21346954],\n",
       "        [ 0.17054792,  0.16971602,  0.01009122, -0.09566858, -0.03119077,\n",
       "         -0.23288597,  0.10572408, -0.30133787, -0.45891044,  0.3995185 ],\n",
       "        [ 0.09790371, -0.10852543,  0.11810191, -0.21426353,  0.18187647,\n",
       "         -0.25845557, -0.04912754, -0.336643  ,  0.25023252, -0.16831471],\n",
       "        [-0.11674824, -0.30598605,  0.33642295, -0.10478798, -0.15108535,\n",
       "          0.32563093, -0.20829955,  0.34222525, -0.08875071, -0.53345233]],\n",
       "       dtype=float32),\n",
       " array([-0.1688129 , -0.06047478, -0.00103741, -0.07436915,  0.12171139,\n",
       "         0.19239083, -0.07946864, -0.11379895,  0.11173782, -0.03889978],\n",
       "       dtype=float32)]"
      ]
     },
     "execution_count": 12,
     "metadata": {},
     "output_type": "execute_result"
    }
   ],
   "source": [
    "model.get_weights()"
   ]
  }
 ],
 "metadata": {
  "kernelspec": {
   "display_name": "base",
   "language": "python",
   "name": "python3"
  },
  "language_info": {
   "codemirror_mode": {
    "name": "ipython",
    "version": 3
   },
   "file_extension": ".py",
   "mimetype": "text/x-python",
   "name": "python",
   "nbconvert_exporter": "python",
   "pygments_lexer": "ipython3",
   "version": "3.11.3"
  }
 },
 "nbformat": 4,
 "nbformat_minor": 2
}
